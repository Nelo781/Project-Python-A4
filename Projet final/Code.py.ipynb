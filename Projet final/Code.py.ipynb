{
 "cells": [
  {
   "cell_type": "code",
   "execution_count": 36,
   "metadata": {},
   "outputs": [],
   "source": [
    "import pickle\n",
    "\n",
    "\n",
    "import numpy as np \n",
    "import pandas as pd\n",
    "import seaborn as sns\n",
    "from matplotlib import pyplot as plt\n",
    "from sklearn import tree\n",
    "from sklearn.ensemble import RandomForestClassifier\n",
    "from sklearn.metrics import accuracy_score\n",
    "from sklearn.metrics import confusion_matrix\n",
    "from sklearn.model_selection import cross_val_score\n",
    "from sklearn.model_selection import GridSearchCV\n",
    "from sklearn.discriminant_analysis import LinearDiscriminantAnalysis\n",
    "from sklearn.neighbors import KNeighborsClassifier"
   ]
  },
  {
   "cell_type": "code",
   "execution_count": 4,
   "metadata": {},
   "outputs": [],
   "source": [
    "train_data = pd.read_csv(\"avila/avila-tr.txt\", sep=\",\",header = None)\n",
    "train_data.columns = [\"intercolumnar distance\",\"upper margin\",\"lower margin\",\"exploitation\",\"row number\",\"modular ratio\",\"interlinear spacing\",\"weight\",\"peak number\",\"modular ratio/ interlinear spacing\",\"Class\"]"
   ]
  },
  {
   "cell_type": "code",
   "execution_count": 5,
   "metadata": {},
   "outputs": [
    {
     "data": {
      "text/html": [
       "<div>\n",
       "<style scoped>\n",
       "    .dataframe tbody tr th:only-of-type {\n",
       "        vertical-align: middle;\n",
       "    }\n",
       "\n",
       "    .dataframe tbody tr th {\n",
       "        vertical-align: top;\n",
       "    }\n",
       "\n",
       "    .dataframe thead th {\n",
       "        text-align: right;\n",
       "    }\n",
       "</style>\n",
       "<table border=\"1\" class=\"dataframe\">\n",
       "  <thead>\n",
       "    <tr style=\"text-align: right;\">\n",
       "      <th></th>\n",
       "      <th>intercolumnar distance</th>\n",
       "      <th>upper margin</th>\n",
       "      <th>lower margin</th>\n",
       "      <th>exploitation</th>\n",
       "      <th>row number</th>\n",
       "      <th>modular ratio</th>\n",
       "      <th>interlinear spacing</th>\n",
       "      <th>weight</th>\n",
       "      <th>peak number</th>\n",
       "      <th>modular ratio/ interlinear spacing</th>\n",
       "      <th>Class</th>\n",
       "    </tr>\n",
       "  </thead>\n",
       "  <tbody>\n",
       "    <tr>\n",
       "      <td>0</td>\n",
       "      <td>0.266074</td>\n",
       "      <td>-0.165620</td>\n",
       "      <td>0.320980</td>\n",
       "      <td>0.483299</td>\n",
       "      <td>0.172340</td>\n",
       "      <td>0.273364</td>\n",
       "      <td>0.371178</td>\n",
       "      <td>0.929823</td>\n",
       "      <td>0.251173</td>\n",
       "      <td>0.159345</td>\n",
       "      <td>A</td>\n",
       "    </tr>\n",
       "    <tr>\n",
       "      <td>1</td>\n",
       "      <td>0.130292</td>\n",
       "      <td>0.870736</td>\n",
       "      <td>-3.210528</td>\n",
       "      <td>0.062493</td>\n",
       "      <td>0.261718</td>\n",
       "      <td>1.436060</td>\n",
       "      <td>1.465940</td>\n",
       "      <td>0.636203</td>\n",
       "      <td>0.282354</td>\n",
       "      <td>0.515587</td>\n",
       "      <td>A</td>\n",
       "    </tr>\n",
       "    <tr>\n",
       "      <td>2</td>\n",
       "      <td>-0.116585</td>\n",
       "      <td>0.069915</td>\n",
       "      <td>0.068476</td>\n",
       "      <td>-0.783147</td>\n",
       "      <td>0.261718</td>\n",
       "      <td>0.439463</td>\n",
       "      <td>-0.081827</td>\n",
       "      <td>-0.888236</td>\n",
       "      <td>-0.123005</td>\n",
       "      <td>0.582939</td>\n",
       "      <td>A</td>\n",
       "    </tr>\n",
       "    <tr>\n",
       "      <td>3</td>\n",
       "      <td>0.031541</td>\n",
       "      <td>0.297600</td>\n",
       "      <td>-3.210528</td>\n",
       "      <td>-0.583590</td>\n",
       "      <td>-0.721442</td>\n",
       "      <td>-0.307984</td>\n",
       "      <td>0.710932</td>\n",
       "      <td>1.051693</td>\n",
       "      <td>0.594169</td>\n",
       "      <td>-0.533994</td>\n",
       "      <td>A</td>\n",
       "    </tr>\n",
       "    <tr>\n",
       "      <td>4</td>\n",
       "      <td>0.229043</td>\n",
       "      <td>0.807926</td>\n",
       "      <td>-0.052442</td>\n",
       "      <td>0.082634</td>\n",
       "      <td>0.261718</td>\n",
       "      <td>0.148790</td>\n",
       "      <td>0.635431</td>\n",
       "      <td>0.051062</td>\n",
       "      <td>0.032902</td>\n",
       "      <td>-0.086652</td>\n",
       "      <td>F</td>\n",
       "    </tr>\n",
       "    <tr>\n",
       "      <td>...</td>\n",
       "      <td>...</td>\n",
       "      <td>...</td>\n",
       "      <td>...</td>\n",
       "      <td>...</td>\n",
       "      <td>...</td>\n",
       "      <td>...</td>\n",
       "      <td>...</td>\n",
       "      <td>...</td>\n",
       "      <td>...</td>\n",
       "      <td>...</td>\n",
       "      <td>...</td>\n",
       "    </tr>\n",
       "    <tr>\n",
       "      <td>10425</td>\n",
       "      <td>0.080916</td>\n",
       "      <td>0.588093</td>\n",
       "      <td>0.015130</td>\n",
       "      <td>0.002250</td>\n",
       "      <td>0.261718</td>\n",
       "      <td>-0.557133</td>\n",
       "      <td>0.371178</td>\n",
       "      <td>0.932346</td>\n",
       "      <td>0.282354</td>\n",
       "      <td>-0.580141</td>\n",
       "      <td>F</td>\n",
       "    </tr>\n",
       "    <tr>\n",
       "      <td>10426</td>\n",
       "      <td>0.253730</td>\n",
       "      <td>-0.338346</td>\n",
       "      <td>0.352988</td>\n",
       "      <td>-1.154243</td>\n",
       "      <td>0.172340</td>\n",
       "      <td>-0.557133</td>\n",
       "      <td>0.257927</td>\n",
       "      <td>0.348428</td>\n",
       "      <td>0.032902</td>\n",
       "      <td>-0.527134</td>\n",
       "      <td>F</td>\n",
       "    </tr>\n",
       "    <tr>\n",
       "      <td>10427</td>\n",
       "      <td>0.229043</td>\n",
       "      <td>-0.000745</td>\n",
       "      <td>0.171611</td>\n",
       "      <td>-0.002793</td>\n",
       "      <td>0.261718</td>\n",
       "      <td>0.688613</td>\n",
       "      <td>0.295677</td>\n",
       "      <td>-1.088486</td>\n",
       "      <td>-0.590727</td>\n",
       "      <td>0.580142</td>\n",
       "      <td>A</td>\n",
       "    </tr>\n",
       "    <tr>\n",
       "      <td>10428</td>\n",
       "      <td>-0.301743</td>\n",
       "      <td>0.352558</td>\n",
       "      <td>0.288973</td>\n",
       "      <td>1.638181</td>\n",
       "      <td>0.261718</td>\n",
       "      <td>0.688613</td>\n",
       "      <td>0.069175</td>\n",
       "      <td>0.502761</td>\n",
       "      <td>0.625350</td>\n",
       "      <td>0.718969</td>\n",
       "      <td>E</td>\n",
       "    </tr>\n",
       "    <tr>\n",
       "      <td>10429</td>\n",
       "      <td>-0.104241</td>\n",
       "      <td>-1.037102</td>\n",
       "      <td>0.388552</td>\n",
       "      <td>-1.099311</td>\n",
       "      <td>0.172340</td>\n",
       "      <td>-0.307984</td>\n",
       "      <td>0.786433</td>\n",
       "      <td>-1.337547</td>\n",
       "      <td>0.999528</td>\n",
       "      <td>-0.551063</td>\n",
       "      <td>X</td>\n",
       "    </tr>\n",
       "  </tbody>\n",
       "</table>\n",
       "<p>10430 rows × 11 columns</p>\n",
       "</div>"
      ],
      "text/plain": [
       "       intercolumnar distance  upper margin  lower margin  exploitation  \\\n",
       "0                    0.266074     -0.165620      0.320980      0.483299   \n",
       "1                    0.130292      0.870736     -3.210528      0.062493   \n",
       "2                   -0.116585      0.069915      0.068476     -0.783147   \n",
       "3                    0.031541      0.297600     -3.210528     -0.583590   \n",
       "4                    0.229043      0.807926     -0.052442      0.082634   \n",
       "...                       ...           ...           ...           ...   \n",
       "10425                0.080916      0.588093      0.015130      0.002250   \n",
       "10426                0.253730     -0.338346      0.352988     -1.154243   \n",
       "10427                0.229043     -0.000745      0.171611     -0.002793   \n",
       "10428               -0.301743      0.352558      0.288973      1.638181   \n",
       "10429               -0.104241     -1.037102      0.388552     -1.099311   \n",
       "\n",
       "       row number  modular ratio  interlinear spacing    weight  peak number  \\\n",
       "0        0.172340       0.273364             0.371178  0.929823     0.251173   \n",
       "1        0.261718       1.436060             1.465940  0.636203     0.282354   \n",
       "2        0.261718       0.439463            -0.081827 -0.888236    -0.123005   \n",
       "3       -0.721442      -0.307984             0.710932  1.051693     0.594169   \n",
       "4        0.261718       0.148790             0.635431  0.051062     0.032902   \n",
       "...           ...            ...                  ...       ...          ...   \n",
       "10425    0.261718      -0.557133             0.371178  0.932346     0.282354   \n",
       "10426    0.172340      -0.557133             0.257927  0.348428     0.032902   \n",
       "10427    0.261718       0.688613             0.295677 -1.088486    -0.590727   \n",
       "10428    0.261718       0.688613             0.069175  0.502761     0.625350   \n",
       "10429    0.172340      -0.307984             0.786433 -1.337547     0.999528   \n",
       "\n",
       "       modular ratio/ interlinear spacing Class  \n",
       "0                                0.159345     A  \n",
       "1                                0.515587     A  \n",
       "2                                0.582939     A  \n",
       "3                               -0.533994     A  \n",
       "4                               -0.086652     F  \n",
       "...                                   ...   ...  \n",
       "10425                           -0.580141     F  \n",
       "10426                           -0.527134     F  \n",
       "10427                            0.580142     A  \n",
       "10428                            0.718969     E  \n",
       "10429                           -0.551063     X  \n",
       "\n",
       "[10430 rows x 11 columns]"
      ]
     },
     "execution_count": 5,
     "metadata": {},
     "output_type": "execute_result"
    }
   ],
   "source": [
    "train_data"
   ]
  },
  {
   "cell_type": "code",
   "execution_count": 6,
   "metadata": {},
   "outputs": [],
   "source": [
    "test_data = pd.read_csv(\"avila/avila-ts.txt\", sep=\",\",header = None)\n",
    "test_data.columns = [\"intercolumnar distance\",\"upper margin\",\"lower margin\",\"exploitation\",\"row number\",\"modular ratio\",\"interlinear spacing\",\"weight\",\"peak number\",\"modular ratio/ interlinear spacing\",\"Class\"]"
   ]
  },
  {
   "cell_type": "code",
   "execution_count": 7,
   "metadata": {},
   "outputs": [
    {
     "data": {
      "text/html": [
       "<div>\n",
       "<style scoped>\n",
       "    .dataframe tbody tr th:only-of-type {\n",
       "        vertical-align: middle;\n",
       "    }\n",
       "\n",
       "    .dataframe tbody tr th {\n",
       "        vertical-align: top;\n",
       "    }\n",
       "\n",
       "    .dataframe thead th {\n",
       "        text-align: right;\n",
       "    }\n",
       "</style>\n",
       "<table border=\"1\" class=\"dataframe\">\n",
       "  <thead>\n",
       "    <tr style=\"text-align: right;\">\n",
       "      <th></th>\n",
       "      <th>intercolumnar distance</th>\n",
       "      <th>upper margin</th>\n",
       "      <th>lower margin</th>\n",
       "      <th>exploitation</th>\n",
       "      <th>row number</th>\n",
       "      <th>modular ratio</th>\n",
       "      <th>interlinear spacing</th>\n",
       "      <th>weight</th>\n",
       "      <th>peak number</th>\n",
       "      <th>modular ratio/ interlinear spacing</th>\n",
       "      <th>Class</th>\n",
       "    </tr>\n",
       "  </thead>\n",
       "  <tbody>\n",
       "    <tr>\n",
       "      <td>0</td>\n",
       "      <td>-3.498799</td>\n",
       "      <td>0.250492</td>\n",
       "      <td>0.232070</td>\n",
       "      <td>1.224178</td>\n",
       "      <td>-4.922215</td>\n",
       "      <td>1.145386</td>\n",
       "      <td>0.182426</td>\n",
       "      <td>-0.165983</td>\n",
       "      <td>-0.123005</td>\n",
       "      <td>1.087144</td>\n",
       "      <td>W</td>\n",
       "    </tr>\n",
       "    <tr>\n",
       "      <td>1</td>\n",
       "      <td>0.204355</td>\n",
       "      <td>-0.354049</td>\n",
       "      <td>0.320980</td>\n",
       "      <td>0.410166</td>\n",
       "      <td>-0.989576</td>\n",
       "      <td>-2.218127</td>\n",
       "      <td>0.220177</td>\n",
       "      <td>0.181844</td>\n",
       "      <td>2.090879</td>\n",
       "      <td>-2.009758</td>\n",
       "      <td>A</td>\n",
       "    </tr>\n",
       "    <tr>\n",
       "      <td>2</td>\n",
       "      <td>0.759828</td>\n",
       "      <td>-1.304042</td>\n",
       "      <td>-0.023991</td>\n",
       "      <td>-0.973663</td>\n",
       "      <td>-0.006417</td>\n",
       "      <td>-0.349509</td>\n",
       "      <td>-0.421580</td>\n",
       "      <td>-0.450127</td>\n",
       "      <td>0.469443</td>\n",
       "      <td>0.060952</td>\n",
       "      <td>I</td>\n",
       "    </tr>\n",
       "    <tr>\n",
       "      <td>3</td>\n",
       "      <td>-0.005490</td>\n",
       "      <td>0.360409</td>\n",
       "      <td>0.281860</td>\n",
       "      <td>-0.213479</td>\n",
       "      <td>-1.168333</td>\n",
       "      <td>-1.013906</td>\n",
       "      <td>-0.346080</td>\n",
       "      <td>1.176165</td>\n",
       "      <td>0.968347</td>\n",
       "      <td>-0.627999</td>\n",
       "      <td>E</td>\n",
       "    </tr>\n",
       "    <tr>\n",
       "      <td>4</td>\n",
       "      <td>0.080916</td>\n",
       "      <td>0.101320</td>\n",
       "      <td>0.104040</td>\n",
       "      <td>0.140490</td>\n",
       "      <td>0.261718</td>\n",
       "      <td>0.480988</td>\n",
       "      <td>0.710932</td>\n",
       "      <td>-0.253430</td>\n",
       "      <td>-0.497183</td>\n",
       "      <td>0.155681</td>\n",
       "      <td>A</td>\n",
       "    </tr>\n",
       "    <tr>\n",
       "      <td>...</td>\n",
       "      <td>...</td>\n",
       "      <td>...</td>\n",
       "      <td>...</td>\n",
       "      <td>...</td>\n",
       "      <td>...</td>\n",
       "      <td>...</td>\n",
       "      <td>...</td>\n",
       "      <td>...</td>\n",
       "      <td>...</td>\n",
       "      <td>...</td>\n",
       "      <td>...</td>\n",
       "    </tr>\n",
       "    <tr>\n",
       "      <td>10432</td>\n",
       "      <td>-0.128929</td>\n",
       "      <td>-0.040001</td>\n",
       "      <td>0.057807</td>\n",
       "      <td>0.557894</td>\n",
       "      <td>0.261718</td>\n",
       "      <td>-0.930856</td>\n",
       "      <td>-0.044076</td>\n",
       "      <td>1.158458</td>\n",
       "      <td>2.277968</td>\n",
       "      <td>-0.699884</td>\n",
       "      <td>X</td>\n",
       "    </tr>\n",
       "    <tr>\n",
       "      <td>10433</td>\n",
       "      <td>0.266074</td>\n",
       "      <td>0.556689</td>\n",
       "      <td>-0.020434</td>\n",
       "      <td>0.176624</td>\n",
       "      <td>0.261718</td>\n",
       "      <td>-0.515608</td>\n",
       "      <td>0.597681</td>\n",
       "      <td>0.178349</td>\n",
       "      <td>0.625350</td>\n",
       "      <td>-0.657245</td>\n",
       "      <td>G</td>\n",
       "    </tr>\n",
       "    <tr>\n",
       "      <td>10434</td>\n",
       "      <td>-0.054866</td>\n",
       "      <td>0.580242</td>\n",
       "      <td>0.032912</td>\n",
       "      <td>-0.016668</td>\n",
       "      <td>0.261718</td>\n",
       "      <td>1.519109</td>\n",
       "      <td>0.371178</td>\n",
       "      <td>-0.985508</td>\n",
       "      <td>-0.403638</td>\n",
       "      <td>1.276301</td>\n",
       "      <td>A</td>\n",
       "    </tr>\n",
       "    <tr>\n",
       "      <td>10435</td>\n",
       "      <td>0.080916</td>\n",
       "      <td>0.588093</td>\n",
       "      <td>0.015130</td>\n",
       "      <td>0.002250</td>\n",
       "      <td>0.261718</td>\n",
       "      <td>-0.930856</td>\n",
       "      <td>-0.270579</td>\n",
       "      <td>0.163807</td>\n",
       "      <td>-0.091823</td>\n",
       "      <td>-0.593329</td>\n",
       "      <td>F</td>\n",
       "    </tr>\n",
       "    <tr>\n",
       "      <td>10436</td>\n",
       "      <td>0.377169</td>\n",
       "      <td>0.014957</td>\n",
       "      <td>0.381439</td>\n",
       "      <td>0.292753</td>\n",
       "      <td>0.261718</td>\n",
       "      <td>-1.470679</td>\n",
       "      <td>-0.006326</td>\n",
       "      <td>-0.494919</td>\n",
       "      <td>-0.247731</td>\n",
       "      <td>-1.212974</td>\n",
       "      <td>H</td>\n",
       "    </tr>\n",
       "  </tbody>\n",
       "</table>\n",
       "<p>10437 rows × 11 columns</p>\n",
       "</div>"
      ],
      "text/plain": [
       "       intercolumnar distance  upper margin  lower margin  exploitation  \\\n",
       "0                   -3.498799      0.250492      0.232070      1.224178   \n",
       "1                    0.204355     -0.354049      0.320980      0.410166   \n",
       "2                    0.759828     -1.304042     -0.023991     -0.973663   \n",
       "3                   -0.005490      0.360409      0.281860     -0.213479   \n",
       "4                    0.080916      0.101320      0.104040      0.140490   \n",
       "...                       ...           ...           ...           ...   \n",
       "10432               -0.128929     -0.040001      0.057807      0.557894   \n",
       "10433                0.266074      0.556689     -0.020434      0.176624   \n",
       "10434               -0.054866      0.580242      0.032912     -0.016668   \n",
       "10435                0.080916      0.588093      0.015130      0.002250   \n",
       "10436                0.377169      0.014957      0.381439      0.292753   \n",
       "\n",
       "       row number  modular ratio  interlinear spacing    weight  peak number  \\\n",
       "0       -4.922215       1.145386             0.182426 -0.165983    -0.123005   \n",
       "1       -0.989576      -2.218127             0.220177  0.181844     2.090879   \n",
       "2       -0.006417      -0.349509            -0.421580 -0.450127     0.469443   \n",
       "3       -1.168333      -1.013906            -0.346080  1.176165     0.968347   \n",
       "4        0.261718       0.480988             0.710932 -0.253430    -0.497183   \n",
       "...           ...            ...                  ...       ...          ...   \n",
       "10432    0.261718      -0.930856            -0.044076  1.158458     2.277968   \n",
       "10433    0.261718      -0.515608             0.597681  0.178349     0.625350   \n",
       "10434    0.261718       1.519109             0.371178 -0.985508    -0.403638   \n",
       "10435    0.261718      -0.930856            -0.270579  0.163807    -0.091823   \n",
       "10436    0.261718      -1.470679            -0.006326 -0.494919    -0.247731   \n",
       "\n",
       "       modular ratio/ interlinear spacing Class  \n",
       "0                                1.087144     W  \n",
       "1                               -2.009758     A  \n",
       "2                                0.060952     I  \n",
       "3                               -0.627999     E  \n",
       "4                                0.155681     A  \n",
       "...                                   ...   ...  \n",
       "10432                           -0.699884     X  \n",
       "10433                           -0.657245     G  \n",
       "10434                            1.276301     A  \n",
       "10435                           -0.593329     F  \n",
       "10436                           -1.212974     H  \n",
       "\n",
       "[10437 rows x 11 columns]"
      ]
     },
     "execution_count": 7,
     "metadata": {},
     "output_type": "execute_result"
    }
   ],
   "source": [
    "test_data"
   ]
  },
  {
   "cell_type": "code",
   "execution_count": 8,
   "metadata": {},
   "outputs": [],
   "source": [
    "X_train = train_data[[\"intercolumnar distance\",\"upper margin\",\"lower margin\",\"exploitation\",\"row number\",\"modular ratio\",\"interlinear spacing\",\"weight\",\"peak number\",\"modular ratio/ interlinear spacing\"]]\n",
    "Y_train = train_data[\"Class\"]"
   ]
  },
  {
   "cell_type": "code",
   "execution_count": 9,
   "metadata": {},
   "outputs": [
    {
     "data": {
      "text/plain": [
       "0        A\n",
       "1        A\n",
       "2        A\n",
       "3        A\n",
       "4        F\n",
       "        ..\n",
       "10425    F\n",
       "10426    F\n",
       "10427    A\n",
       "10428    E\n",
       "10429    X\n",
       "Name: Class, Length: 10430, dtype: object"
      ]
     },
     "execution_count": 9,
     "metadata": {},
     "output_type": "execute_result"
    }
   ],
   "source": [
    "Y_train"
   ]
  },
  {
   "cell_type": "code",
   "execution_count": 10,
   "metadata": {},
   "outputs": [],
   "source": [
    "X_test = test_data[[\"intercolumnar distance\",\"upper margin\",\"lower margin\",\"exploitation\",\"row number\",\"modular ratio\",\"interlinear spacing\",\"weight\",\"peak number\",\"modular ratio/ interlinear spacing\"]]\n",
    "Y_test = test_data[\"Class\"]"
   ]
  },
  {
   "cell_type": "markdown",
   "metadata": {},
   "source": [
    "## Features disparity per class"
   ]
  },
  {
   "cell_type": "code",
   "execution_count": 11,
   "metadata": {},
   "outputs": [
    {
     "data": {
      "text/plain": [
       "<matplotlib.axes._subplots.AxesSubplot at 0x1ee08859b88>"
      ]
     },
     "execution_count": 11,
     "metadata": {},
     "output_type": "execute_result"
    },
    {
     "data": {
      "image/png": "[encoded data removed]",
      "text/plain": [
       "<Figure size 1872x720 with 10 Axes>"
      ]
     },
     "metadata": {
      "needs_background": "light"
     },
     "output_type": "display_data"
    }
   ],
   "source": [
    "\n",
    "fig, axes = plt.subplots(2,5,figsize=(26,10))\n",
    "sns.barplot(ax = axes[0,0], y=train_data[\"weight\"], x = train_data[\"Class\"])\n",
    "sns.barplot(ax = axes[0,1],y=train_data[\"intercolumnar distance\"], x = train_data[\"Class\"])\n",
    "sns.barplot(ax = axes[0,2],y=train_data[\"upper margin\"], x = train_data[\"Class\"])\n",
    "sns.barplot(ax = axes[0,3],y=train_data[\"lower margin\"], x = train_data[\"Class\"])\n",
    "sns.barplot(ax = axes[0,4],y=train_data[\"exploitation\"], x = train_data[\"Class\"])\n",
    "sns.barplot(ax = axes[1,0],y=train_data[\"row number\"], x = train_data[\"Class\"])\n",
    "sns.barplot(ax = axes[1,1],y=train_data[\"modular ratio\"], x = train_data[\"Class\"])\n",
    "sns.barplot(ax = axes[1,2],y=train_data[\"interlinear spacing\"], x = train_data[\"Class\"])\n",
    "sns.barplot(ax = axes[1,3],y=train_data[\"peak number\"], x = train_data[\"Class\"])\n",
    "sns.barplot(ax = axes[1,4],y=train_data[\"modular ratio/ interlinear spacing\"], x = train_data[\"Class\"])"
   ]
  },
  {
   "cell_type": "markdown",
   "metadata": {},
   "source": [
    "## Correlation matrix"
   ]
  },
  {
   "cell_type": "code",
   "execution_count": 88,
   "metadata": {},
   "outputs": [
    {
     "data": {
      "text/plain": [
       "[Text(0.5, 0, 'intercolumnar distance'),\n",
       " Text(1.5, 0, 'upper margin'),\n",
       " Text(2.5, 0, 'lower margin'),\n",
       " Text(3.5, 0, 'exploitation'),\n",
       " Text(4.5, 0, 'row number'),\n",
       " Text(5.5, 0, 'modular ratio'),\n",
       " Text(6.5, 0, 'interlinear spacing'),\n",
       " Text(7.5, 0, 'weight'),\n",
       " Text(8.5, 0, 'peak number'),\n",
       " Text(9.5, 0, 'modular ratio/ interlinear spacing')]"
      ]
     },
     "execution_count": 88,
     "metadata": {},
     "output_type": "execute_result"
    },
    {
     "data": {
      "image/png": "[encoded data removed]",
      "text/plain": [
       "<Figure size 432x288 with 2 Axes>"
      ]
     },
     "metadata": {
      "needs_background": "light"
     },
     "output_type": "display_data"
    }
   ],
   "source": [
    "map = sns.heatmap(X_train.corr())\n",
    "map.set_xticklabels(test_data.columns[:-1], rotation = 60)"
   ]
  },
  {
   "cell_type": "markdown",
   "metadata": {},
   "source": [
    "## Linear Discriminant Analysis"
   ]
  },
  {
   "cell_type": "code",
   "execution_count": 13,
   "metadata": {},
   "outputs": [
    {
     "data": {
      "text/plain": [
       "0.6996263294050015"
      ]
     },
     "execution_count": 13,
     "metadata": {},
     "output_type": "execute_result"
    }
   ],
   "source": [
    "lda = LinearDiscriminantAnalysis(n_components=7)\n",
    "\n",
    "X_trainlda = lda.fit(X_train, Y_train).transform(X_train)\n",
    "X_testlda = lda.transform(X_test)\n",
    "\n",
    "classifier = KNeighborsClassifier(n_neighbors =5, metric = 'minkowski', p = 2)\n",
    "classifier.fit(X_trainlda, Y_train)\n",
    "pred = classifier.predict(X_testlda)\n",
    "\n",
    "accuracy_score(Y_test, pred)"
   ]
  },
  {
   "cell_type": "code",
   "execution_count": 27,
   "metadata": {},
   "outputs": [
    {
     "data": {
      "text/plain": [
       "0        W\n",
       "1        A\n",
       "2        I\n",
       "3        E\n",
       "4        A\n",
       "        ..\n",
       "10432    X\n",
       "10433    G\n",
       "10434    A\n",
       "10435    F\n",
       "10436    H\n",
       "Name: Class, Length: 10437, dtype: object"
      ]
     },
     "execution_count": 27,
     "metadata": {},
     "output_type": "execute_result"
    }
   ],
   "source": [
    "Y_test"
   ]
  },
  {
   "cell_type": "markdown",
   "metadata": {},
   "source": [
    "#### Confusion Matrix"
   ]
  },
  {
   "cell_type": "code",
   "execution_count": 72,
   "metadata": {
    "scrolled": true
   },
   "outputs": [
    {
     "data": {
      "text/plain": [
       "[Text(0, 0.5, 'A'),\n",
       " Text(0, 1.5, 'B'),\n",
       " Text(0, 2.5, 'C'),\n",
       " Text(0, 3.5, 'D'),\n",
       " Text(0, 4.5, 'E'),\n",
       " Text(0, 5.5, 'F'),\n",
       " Text(0, 6.5, 'G'),\n",
       " Text(0, 7.5, 'H'),\n",
       " Text(0, 8.5, 'I'),\n",
       " Text(0, 9.5, 'W'),\n",
       " Text(0, 10.5, 'X'),\n",
       " Text(0, 11.5, 'Y')]"
      ]
     },
     "execution_count": 72,
     "metadata": {},
     "output_type": "execute_result"
    },
    {
     "data": {
      "image/png": "[encoded data removed]",
      "text/plain": [
       "<Figure size 504x360 with 2 Axes>"
      ]
     },
     "metadata": {
      "needs_background": "light"
     },
     "output_type": "display_data"
    }
   ],
   "source": [
    "cfmat = confusion_matrix(Y_test, pred)\n",
    "plt.figure(figsize=(7, 5))\n",
    "cfmat_viz = sns.heatmap(cfmat,square = True, annot = True,fmt = 'd',cbar = True, cmap=plt.cm.BrBG)\n",
    "cfmat_viz.set_xlabel('Actual')\n",
    "cfmat_viz.set_ylabel('Model Prediction')\n",
    "copysist_label = ['A','B','C','D','E','F','G','H','I','W','X','Y']\n",
    "cfmat_viz.set_xticklabels(copysist_label)\n",
    "cfmat_viz.set_yticklabels(copysist_label)\n",
    "cfmat_viz.set_yticklabels(copysist_label,rotation = 0)"
   ]
  },
  {
   "cell_type": "markdown",
   "metadata": {},
   "source": [
    "#### LDA Cross-validation"
   ]
  },
  {
   "cell_type": "code",
   "execution_count": 25,
   "metadata": {},
   "outputs": [
    {
     "data": {
      "text/plain": [
       "array([0.70315488, 0.71640363, 0.7042186 , 0.69193858, 0.6828215 ])"
      ]
     },
     "execution_count": 25,
     "metadata": {},
     "output_type": "execute_result"
    }
   ],
   "source": [
    "cvlda = cross_val_score(classifier, X_testlda, Y_test, cv=5)\n",
    "cvlda"
   ]
  },
  {
   "cell_type": "markdown",
   "metadata": {},
   "source": [
    "## Decision Tree"
   ]
  },
  {
   "cell_type": "code",
   "execution_count": 46,
   "metadata": {},
   "outputs": [
    {
     "data": {
      "text/plain": [
       "0.9695314745616557"
      ]
     },
     "execution_count": 46,
     "metadata": {},
     "output_type": "execute_result"
    }
   ],
   "source": [
    "classifierDT = tree.DecisionTreeClassifier()\n",
    "classifierDT = classifierDT.fit(X_train, Y_train)\n",
    "\n",
    "test_pred = classifierDT.predict(X_test)\n",
    "\n",
    "accuracy_score(Y_test, test_pred)\n",
    "\n"
   ]
  },
  {
   "cell_type": "markdown",
   "metadata": {},
   "source": [
    "#### Confusion Matrix"
   ]
  },
  {
   "cell_type": "code",
   "execution_count": 71,
   "metadata": {
    "scrolled": true
   },
   "outputs": [
    {
     "data": {
      "text/plain": [
       "[Text(0, 0.5, 'A'),\n",
       " Text(0, 1.5, 'B'),\n",
       " Text(0, 2.5, 'C'),\n",
       " Text(0, 3.5, 'D'),\n",
       " Text(0, 4.5, 'E'),\n",
       " Text(0, 5.5, 'F'),\n",
       " Text(0, 6.5, 'G'),\n",
       " Text(0, 7.5, 'H'),\n",
       " Text(0, 8.5, 'I'),\n",
       " Text(0, 9.5, 'W'),\n",
       " Text(0, 10.5, 'X'),\n",
       " Text(0, 11.5, 'Y')]"
      ]
     },
     "execution_count": 71,
     "metadata": {},
     "output_type": "execute_result"
    },
    {
     "data": {
      "image/png": "[encoded data removed]",
      "text/plain": [
       "<Figure size 504x360 with 2 Axes>"
      ]
     },
     "metadata": {
      "needs_background": "light"
     },
     "output_type": "display_data"
    }
   ],
   "source": [
    "cfmat = confusion_matrix(Y_test, test_pred)\n",
    "plt.figure(figsize=(7, 5))\n",
    "cfmat_viz = sns.heatmap(cfmat,square = True, annot = True,fmt = 'd',cbar = True, cmap=plt.cm.BrBG)\n",
    "cfmat_viz.set_xlabel('Actual')\n",
    "cfmat_viz.set_ylabel('Model Prediction')\n",
    "copysist_label = ['A','B','C','D','E','F','G','H','I','W','X','Y']\n",
    "cfmat_viz.set_xticklabels(copysist_label)\n",
    "cfmat_viz.set_yticklabels(copysist_label)\n",
    "cfmat_viz.set_yticklabels(copysist_label,rotation = 0)"
   ]
  },
  {
   "cell_type": "markdown",
   "metadata": {},
   "source": [
    "#### Decision Tree Cross-validation"
   ]
  },
  {
   "cell_type": "code",
   "execution_count": 13,
   "metadata": {},
   "outputs": [
    {
     "data": {
      "text/plain": [
       "array([0.96606119, 0.95265423, 0.93815916, 0.96353167, 0.94865643])"
      ]
     },
     "execution_count": 13,
     "metadata": {},
     "output_type": "execute_result"
    }
   ],
   "source": [
    "cvdt = cross_val_score(classifierDT, X_test, Y_test, cv=5)\n",
    "cvdt"
   ]
  },
  {
   "cell_type": "markdown",
   "metadata": {},
   "source": [
    "## Random Forest"
   ]
  },
  {
   "cell_type": "code",
   "execution_count": 49,
   "metadata": {
    "collapsed": true
   },
   "outputs": [
    {
     "name": "stderr",
     "output_type": "stream",
     "text": [
      "C:\\Users\\Jules\\Anaconda3\\lib\\site-packages\\sklearn\\ensemble\\forest.py:245: FutureWarning: The default value of n_estimators will change from 10 in version 0.20 to 100 in 0.22.\n",
      "  \"10 in version 0.20 to 100 in 0.22.\", FutureWarning)\n"
     ]
    },
    {
     "data": {
      "text/plain": [
       "RandomForestClassifier(bootstrap=True, class_weight=None, criterion='gini',\n",
       "                       max_depth=None, max_features='auto', max_leaf_nodes=None,\n",
       "                       min_impurity_decrease=0.0, min_impurity_split=None,\n",
       "                       min_samples_leaf=1, min_samples_split=2,\n",
       "                       min_weight_fraction_leaf=0.0, n_estimators=10,\n",
       "                       n_jobs=None, oob_score=False, random_state=None,\n",
       "                       verbose=0, warm_start=False)"
      ]
     },
     "execution_count": 49,
     "metadata": {},
     "output_type": "execute_result"
    }
   ],
   "source": [
    "classifierRF = RandomForestClassifier()\n",
    "classifierRF.fit(X_train,Y_train)"
   ]
  },
  {
   "cell_type": "code",
   "execution_count": 50,
   "metadata": {},
   "outputs": [
    {
     "data": {
      "text/plain": [
       "0.9677110280732011"
      ]
     },
     "execution_count": 50,
     "metadata": {},
     "output_type": "execute_result"
    }
   ],
   "source": [
    "pred = classifierRF.predict(X_test)\n",
    "\n",
    "accuracy_score(Y_test,pred)"
   ]
  },
  {
   "cell_type": "markdown",
   "metadata": {},
   "source": [
    "#### Confusion Matrix"
   ]
  },
  {
   "cell_type": "code",
   "execution_count": 70,
   "metadata": {
    "scrolled": true
   },
   "outputs": [
    {
     "data": {
      "text/plain": [
       "[Text(0, 0.5, 'A'),\n",
       " Text(0, 1.5, 'B'),\n",
       " Text(0, 2.5, 'C'),\n",
       " Text(0, 3.5, 'D'),\n",
       " Text(0, 4.5, 'E'),\n",
       " Text(0, 5.5, 'F'),\n",
       " Text(0, 6.5, 'G'),\n",
       " Text(0, 7.5, 'H'),\n",
       " Text(0, 8.5, 'I'),\n",
       " Text(0, 9.5, 'W'),\n",
       " Text(0, 10.5, 'X'),\n",
       " Text(0, 11.5, 'Y')]"
      ]
     },
     "execution_count": 70,
     "metadata": {},
     "output_type": "execute_result"
    },
    {
     "data": {
      "image/png": "[encoded data removed]",
      "text/plain": [
       "<Figure size 504x360 with 2 Axes>"
      ]
     },
     "metadata": {
      "needs_background": "light"
     },
     "output_type": "display_data"
    }
   ],
   "source": [
    "cfmat = confusion_matrix(Y_test, pred)\n",
    "plt.figure(figsize=(7, 5))\n",
    "cfmat_viz = sns.heatmap(cfmat,square = True, annot = True,fmt = 'd',cbar = True, cmap=plt.cm.BrBG)\n",
    "cfmat_viz.set_xlabel('Actual')\n",
    "cfmat_viz.set_ylabel('Model Prediction')\n",
    "copysist_label = ['A','B','C','D','E','F','G','H','I','W','X','Y']\n",
    "cfmat_viz.set_xticklabels(copysist_label)\n",
    "cfmat_viz.set_yticklabels(copysist_label)\n",
    "cfmat_viz.set_yticklabels(copysist_label,rotation = 0)"
   ]
  },
  {
   "cell_type": "markdown",
   "metadata": {},
   "source": [
    "####  We reached the maximum Cross Validation value (cv) equal to 5 because the \"B\" class have only 5 members "
   ]
  },
  {
   "cell_type": "code",
   "execution_count": 52,
   "metadata": {},
   "outputs": [
    {
     "data": {
      "text/plain": [
       "array([0.96271511, 0.94739359, 0.96212848, 0.9659309 , 0.9256238 ])"
      ]
     },
     "execution_count": 52,
     "metadata": {},
     "output_type": "execute_result"
    }
   ],
   "source": [
    "cvrf = cross_val_score(classifierRF, X_test, Y_test, cv=5)\n",
    "cvrf"
   ]
  },
  {
   "cell_type": "markdown",
   "metadata": {},
   "source": [
    "## Plotting models accuracy"
   ]
  },
  {
   "cell_type": "code",
   "execution_count": 17,
   "metadata": {},
   "outputs": [
    {
     "data": {
      "text/plain": [
       "[<matplotlib.lines.Line2D at 0x12e2c4fed48>]"
      ]
     },
     "execution_count": 17,
     "metadata": {},
     "output_type": "execute_result"
    },
    {
     "data": {
      "image/png": "[encoded data removed]",
      "text/plain": [
       "<Figure size 432x288 with 1 Axes>"
      ]
     },
     "metadata": {
      "needs_background": "light"
     },
     "output_type": "display_data"
    }
   ],
   "source": [
    "plt.plot(cvdt, color = \"green\")\n",
    "plt.plot(cvlda, color = \"blue\")\n",
    "plt.plot(cvrf, color = \"red\")"
   ]
  },
  {
   "cell_type": "markdown",
   "metadata": {},
   "source": [
    "## Random forest using Grid Search "
   ]
  },
  {
   "cell_type": "code",
   "execution_count": 55,
   "metadata": {},
   "outputs": [],
   "source": [
    "param_grid = {'bootstrap': [True, False],\n",
    " 'max_depth': [10, 20, 40, 60, 80, 100, None],\n",
    " 'max_features': ['auto', 'sqrt'],\n",
    " 'min_samples_leaf': [1, 2, 4],\n",
    " 'min_samples_split': [2],\n",
    " 'n_estimators': [10,30,50]}\n",
    "grid = GridSearchCV(RandomForestClassifier(),param_grid,cv=5)\n",
    "\n",
    "\n"
   ]
  },
  {
   "cell_type": "code",
   "execution_count": 56,
   "metadata": {
    "collapsed": true
   },
   "outputs": [
    {
     "data": {
      "text/plain": [
       "GridSearchCV(cv=5, error_score='raise-deprecating',\n",
       "             estimator=RandomForestClassifier(bootstrap=True, class_weight=None,\n",
       "                                              criterion='gini', max_depth=None,\n",
       "                                              max_features='auto',\n",
       "                                              max_leaf_nodes=None,\n",
       "                                              min_impurity_decrease=0.0,\n",
       "                                              min_impurity_split=None,\n",
       "                                              min_samples_leaf=1,\n",
       "                                              min_samples_split=2,\n",
       "                                              min_weight_fraction_leaf=0.0,\n",
       "                                              n_estimators='warn', n_jobs=None,\n",
       "                                              oob_score=False,\n",
       "                                              random_state=None, verbose=0,\n",
       "                                              warm_start=False),\n",
       "             iid='warn', n_jobs=None,\n",
       "             param_grid={'bootstrap': [True, False],\n",
       "                         'max_depth': [10, 20, 40, 60, 80, 100, None],\n",
       "                         'max_features': ['auto', 'sqrt'],\n",
       "                         'min_samples_leaf': [1, 2, 4],\n",
       "                         'min_samples_split': [2],\n",
       "                         'n_estimators': [10, 30, 50]},\n",
       "             pre_dispatch='2*n_jobs', refit=True, return_train_score=False,\n",
       "             scoring=None, verbose=0)"
      ]
     },
     "execution_count": 56,
     "metadata": {},
     "output_type": "execute_result"
    }
   ],
   "source": [
    "grid.fit(X_train,Y_train)"
   ]
  },
  {
   "cell_type": "code",
   "execution_count": 57,
   "metadata": {
    "scrolled": true
   },
   "outputs": [
    {
     "data": {
      "text/plain": [
       "{'bootstrap': False,\n",
       " 'max_depth': 80,\n",
       " 'max_features': 'sqrt',\n",
       " 'min_samples_leaf': 1,\n",
       " 'min_samples_split': 2,\n",
       " 'n_estimators': 50}"
      ]
     },
     "execution_count": 57,
     "metadata": {},
     "output_type": "execute_result"
    }
   ],
   "source": [
    "grid.best_params_"
   ]
  },
  {
   "cell_type": "code",
   "execution_count": 61,
   "metadata": {},
   "outputs": [
    {
     "data": {
      "text/plain": [
       "RandomForestClassifier(bootstrap=False, class_weight=None, criterion='gini',\n",
       "                       max_depth=80, max_features='sqrt', max_leaf_nodes=None,\n",
       "                       min_impurity_decrease=0.0, min_impurity_split=None,\n",
       "                       min_samples_leaf=1, min_samples_split=2,\n",
       "                       min_weight_fraction_leaf=0.0, n_estimators=50,\n",
       "                       n_jobs=None, oob_score=False, random_state=None,\n",
       "                       verbose=0, warm_start=False)"
      ]
     },
     "execution_count": 61,
     "metadata": {},
     "output_type": "execute_result"
    }
   ],
   "source": [
    "clf2 = RandomForestClassifier()\n",
    "clf2.set_params(**grid.best_params_)\n",
    "clf2.fit(X_train,Y_train)"
   ]
  },
  {
   "cell_type": "code",
   "execution_count": 59,
   "metadata": {},
   "outputs": [
    {
     "data": {
      "text/plain": [
       "array([0.98661568, 0.98708752, 0.99137105, 0.98368522, 0.97600768])"
      ]
     },
     "execution_count": 59,
     "metadata": {},
     "output_type": "execute_result"
    }
   ],
   "source": [
    "cvgsrf = cross_val_score(clf2, X_test, Y_test, cv=5)\n",
    "cvgsrf"
   ]
  },
  {
   "cell_type": "markdown",
   "metadata": {},
   "source": [
    "## Compare grid Search with the other models"
   ]
  },
  {
   "cell_type": "code",
   "execution_count": 24,
   "metadata": {},
   "outputs": [
    {
     "data": {
      "text/plain": [
       "[<matplotlib.lines.Line2D at 0x12e2d60adc8>]"
      ]
     },
     "execution_count": 24,
     "metadata": {},
     "output_type": "execute_result"
    },
    {
     "data": {
      "image/png": "[encoded data removed]",
      "text/plain": [
       "<Figure size 432x288 with 1 Axes>"
      ]
     },
     "metadata": {
      "needs_background": "light"
     },
     "output_type": "display_data"
    }
   ],
   "source": [
    "c = \"black\"\n",
    "plt.plot(cvdt, color = c)\n",
    "plt.plot(cvlda, color = c)\n",
    "plt.plot(cvrf, color = c)\n",
    "plt.plot(cvgsrf,color = \"red\")"
   ]
  },
  {
   "cell_type": "code",
   "execution_count": 32,
   "metadata": {},
   "outputs": [
    {
     "data": {
      "text/plain": [
       "[<matplotlib.lines.Line2D at 0x12e30704c88>]"
      ]
     },
     "execution_count": 32,
     "metadata": {},
     "output_type": "execute_result"
    },
    {
     "data": {
      "image/png": "[encoded data removed]",
      "text/plain": [
       "<Figure size 432x288 with 1 Axes>"
      ]
     },
     "metadata": {
      "needs_background": "light"
     },
     "output_type": "display_data"
    }
   ],
   "source": [
    "plt.plot(cvgsrf, color = \"green\")"
   ]
  },
  {
   "cell_type": "markdown",
   "metadata": {},
   "source": [
    "#### Confusion Matrix"
   ]
  },
  {
   "cell_type": "code",
   "execution_count": 62,
   "metadata": {},
   "outputs": [],
   "source": [
    "pred = clf2.predict(X_test)"
   ]
  },
  {
   "cell_type": "code",
   "execution_count": 69,
   "metadata": {
    "scrolled": true
   },
   "outputs": [
    {
     "data": {
      "text/plain": [
       "[Text(0, 0.5, 'A'),\n",
       " Text(0, 1.5, 'B'),\n",
       " Text(0, 2.5, 'C'),\n",
       " Text(0, 3.5, 'D'),\n",
       " Text(0, 4.5, 'E'),\n",
       " Text(0, 5.5, 'F'),\n",
       " Text(0, 6.5, 'G'),\n",
       " Text(0, 7.5, 'H'),\n",
       " Text(0, 8.5, 'I'),\n",
       " Text(0, 9.5, 'W'),\n",
       " Text(0, 10.5, 'X'),\n",
       " Text(0, 11.5, 'Y')]"
      ]
     },
     "execution_count": 69,
     "metadata": {},
     "output_type": "execute_result"
    },
    {
     "data": {
      "image/png": "[encoded data removed]",
      "text/plain": [
       "<Figure size 504x360 with 2 Axes>"
      ]
     },
     "metadata": {
      "needs_background": "light"
     },
     "output_type": "display_data"
    }
   ],
   "source": [
    "cfmat = confusion_matrix(Y_test, pred)\n",
    "plt.figure(figsize=(7, 5))\n",
    "cfmat_viz = sns.heatmap(cfmat,square = True, annot = True,fmt = 'd',cbar = True, cmap=plt.cm.BrBG)\n",
    "cfmat_viz.set_xlabel('Actual')\n",
    "cfmat_viz.set_ylabel('Model Prediction')\n",
    "copysist_label = ['A','B','C','D','E','F','G','H','I','W','X','Y']\n",
    "\n",
    "cfmat_viz.set_xticklabels(copysist_label)\n",
    "cfmat_viz.set_yticklabels(copysist_label,rotation = 0)"
   ]
  },
  {
   "cell_type": "code",
   "execution_count": 25,
   "metadata": {},
   "outputs": [],
   "source": [
    "pickle.dump( clf2, open( 'clf2' + \".p\", \"wb\" ) )"
   ]
  }
 ],
 "metadata": {
  "kernelspec": {
   "display_name": "Python 3",
   "language": "python",
   "name": "python3"
  },
  "language_info": {
   "codemirror_mode": {
    "name": "ipython",
    "version": 3
   },
   "file_extension": ".py",
   "mimetype": "text/x-python",
   "name": "python",
   "nbconvert_exporter": "python",
   "pygments_lexer": "ipython3",
   "version": "3.7.4"
  }
 },
 "nbformat": 4,
 "nbformat_minor": 2
}
